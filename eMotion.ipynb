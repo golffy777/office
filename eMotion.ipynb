{
    "cells": [
        {
            "cell_type": "code",
            "execution_count": 252,
            "metadata": {},
            "outputs": [],
            "source": [
                "from selenium import webdriver\n",
                "from selenium.webdriver.support.ui import WebDriverWait\n",
                "from selenium.webdriver.support import expected_conditions as EC\n",
                "from selenium.webdriver.common.by import By\n",
                "from selenium.webdriver.common.keys import Keys\n",
                "import pyautogui\n",
                "import time\n",
                "import os\n",
                "import shutil\n",
                "from selenium.webdriver.chrome.options import Options\n"
            ]
        },
        {
            "cell_type": "markdown",
            "metadata": {},
            "source": [
                "from selenium import webdriver\n",
                "from selenium.webdriver.chrome.options import Options\n",
                "\n",
                "\n",
                "options = Options()\n",
                "options.add_experimental_option(\"prefs\", {\n",
                "\"download.default_directory\": r\"C:\\Users\\sarav\\Desktop\\testshutil\",\n",
                "\"download.prompt_for_download\": False,\n",
                "\"download.directory_upgrade\": True,\n",
                "\"safebrowsing.enabled\": True\n",
                "})\n",
                "\n",
                "#self.driver = webdriver.Chrome(options=options)\n",
                "driver = webdriver.Chrome(options=options)\n"
            ]
        },
        {
            "cell_type": "code",
            "execution_count": 253,
            "metadata": {},
            "outputs": [],
            "source": [
                "driver = webdriver.Chrome(executable_path=r'C:\\Users\\sarav\\Desktop\\xyz88-master\\chromedriver.exe')"
            ]
        },
        {
            "cell_type": "code",
            "execution_count": 254,
            "metadata": {},
            "outputs": [],
            "source": [
                "driver.get('https://eclaim3.emcsthai.com/esurvey/frmLogin.aspx')\n",
                "driver.maximize_window()\n",
                "dcwh = driver.current_window_handle\n",
                "driver.find_element_by_id('txtUserName').send_keys('noppadol@se.co.th')\n",
                "driver.find_element_by_id('txtPassWord').send_keys('Sesurvey1501*')\n",
                "driver.find_element_by_id('imbLogin').click()\n",
                "driver.find_element_by_id('btnEnter').click()"
            ]
        },
        {
            "cell_type": "code",
            "execution_count": 255,
            "metadata": {},
            "outputs": [
                {
                    "name": "stderr",
                    "output_type": "stream",
                    "text": [
                        "C:\\Users\\sarav\\AppData\\Local\\Temp/ipykernel_15212/3003755061.py:4: DeprecationWarning: use driver.switch_to.window instead\n",
                        "  driver.switch_to_window(dcwh)\n"
                    ]
                }
            ],
            "source": [
                "allhandle_windows = driver.window_handles\n",
                "for handle in allhandle_windows:\n",
                "    if handle != dcwh:\n",
                "        driver.switch_to_window(dcwh)"
            ]
        },
        {
            "cell_type": "code",
            "execution_count": 256,
            "metadata": {},
            "outputs": [],
            "source": [
                "time.sleep(2)\n",
                "driver.find_element_by_id('dgvInbox_ctl03_sname').click()"
            ]
        },
        {
            "cell_type": "code",
            "execution_count": 257,
            "metadata": {},
            "outputs": [],
            "source": [
                "#driver.find_element_by_xpath('//*[@id=\"txtRef_Claim_No\"]').value\n",
                "time.sleep(10)\n",
                "driver.find_element_by_xpath('//*[@id=\"dgvList_ctl02_lkbSrRefID\"]').click()\n",
                "time.sleep(2)"
            ]
        },
        {
            "cell_type": "code",
            "execution_count": 258,
            "metadata": {},
            "outputs": [],
            "source": [
                "claim_id = driver.find_element_by_name(\"txtRef_Claim_No\").get_attribute('value')"
            ]
        },
        {
            "cell_type": "code",
            "execution_count": 259,
            "metadata": {},
            "outputs": [],
            "source": [
                "time.sleep(2)\n",
                "driver.find_element_by_xpath('//*[@id=\"wuMenuPage1_imbImage\"]').click()\n",
                "time.sleep(2)\n",
                "driver.find_element_by_xpath('//*[@id=\"btnShow_Image2\"]').click()"
            ]
        },
        {
            "cell_type": "code",
            "execution_count": 260,
            "metadata": {},
            "outputs": [],
            "source": [
                "time.sleep(2)\n",
                "pyautogui.click(1051,518)\n",
                "time.sleep(2)\n",
                "pyautogui.hotkey('ctrl','p')\n",
                "#pyautogui.rightClick(1051,518)\n",
                "time.sleep(2)\n",
                "pyautogui.typewrite(['enter'])\n",
                "#pyautogui.click(1479,877)\n",
                "time.sleep(2)\n",
                "#pyautogui.click()\n",
                "pyautogui.typewrite(claim_id + str('(Picture)'))\n",
                "time.sleep(2)\n",
                "pyautogui.typewrite(['enter'])\n",
                "\n",
                "\n",
                "\n",
                "#pyautogui.click(1051,518)"
            ]
        },
        {
            "cell_type": "code",
            "execution_count": 261,
            "metadata": {},
            "outputs": [],
            "source": [
                "time.sleep(2)\n",
                "pyautogui.click(1888,14)"
            ]
        },
        {
            "cell_type": "code",
            "execution_count": 262,
            "metadata": {},
            "outputs": [],
            "source": [
                "time.sleep(2)\n",
                "driver.find_element_by_xpath('//*[@id=\"wuMenuPage1_imbSpend\"]').click()"
            ]
        },
        {
            "cell_type": "code",
            "execution_count": 263,
            "metadata": {},
            "outputs": [],
            "source": [
                "time.sleep(2)\n",
                "driver.find_element_by_xpath('//*[@id=\"btnAll_Reports_Print\"]').click()"
            ]
        },
        {
            "cell_type": "code",
            "execution_count": 264,
            "metadata": {},
            "outputs": [],
            "source": [
                "time.sleep(2)\n",
                "pyautogui.click(1797,127)"
            ]
        },
        {
            "cell_type": "code",
            "execution_count": 265,
            "metadata": {},
            "outputs": [],
            "source": [
                "time.sleep(2)\n",
                "#pyautogui.click()\n",
                "pyautogui.typewrite(claim_id + str('(Report)'))\n",
                "time.sleep(2)\n",
                "pyautogui.typewrite(['enter'])"
            ]
        },
        {
            "cell_type": "code",
            "execution_count": 266,
            "metadata": {},
            "outputs": [],
            "source": [
                "time.sleep(2)\n",
                "pyautogui.click(1888,18)"
            ]
        },
        {
            "cell_type": "code",
            "execution_count": 267,
            "metadata": {},
            "outputs": [],
            "source": [
                "time.sleep(2)\n",
                "driver.find_element_by_xpath('//*[@id=\"btnExpApproveReport\"]').click()"
            ]
        },
        {
            "cell_type": "code",
            "execution_count": 268,
            "metadata": {},
            "outputs": [],
            "source": [
                "time.sleep(2)\n",
                "pyautogui.click(1799,131)"
            ]
        },
        {
            "cell_type": "code",
            "execution_count": 269,
            "metadata": {},
            "outputs": [],
            "source": [
                "time.sleep(2)\n",
                "#pyautogui.click()\n",
                "pyautogui.typewrite(claim_id + str('(Invoice)'))\n",
                "time.sleep(2)\n",
                "pyautogui.typewrite(['enter'])"
            ]
        },
        {
            "cell_type": "code",
            "execution_count": 270,
            "metadata": {},
            "outputs": [],
            "source": [
                "time.sleep(2)\n",
                "pyautogui.click(1888,18)"
            ]
        },
        {
            "cell_type": "code",
            "execution_count": 271,
            "metadata": {},
            "outputs": [],
            "source": [
                "time.sleep(2)\n",
                "driver.find_element_by_xpath('//*[@id=\"wuMenuPage1_imbReturn_In_Out\"]').click()"
            ]
        },
        {
            "cell_type": "markdown",
            "metadata": {},
            "source": [
                "directory = claim_id\n",
                "\n",
                "parent_dir = r'C:\\Users\\sarav\\Downloads'\n",
                "\n",
                "path = os.path.join(parent_dir, directory)\n",
                "\n",
                "os.makedirs(path)\n",
                "\n",
                "print(\"Directory '%s' created\" %directory)\n"
            ]
        },
        {
            "cell_type": "code",
            "execution_count": 272,
            "metadata": {},
            "outputs": [],
            "source": [
                "file_picture = str(claim_id) + str('(Picture)') + '.pdf'\n",
                "file_report = str(claim_id) + str('(Report)') + '.pdf'\n",
                "file_invoice = str(claim_id) + str('(Invoice)') + '.pdf'\n"
            ]
        },
        {
            "cell_type": "code",
            "execution_count": 273,
            "metadata": {},
            "outputs": [],
            "source": [
                "path = r'C:\\Users\\sarav\\Downloads'"
            ]
        },
        {
            "cell_type": "code",
            "execution_count": 274,
            "metadata": {},
            "outputs": [],
            "source": [
                "os.chdir(path)"
            ]
        },
        {
            "cell_type": "code",
            "execution_count": 275,
            "metadata": {},
            "outputs": [],
            "source": [
                "os.mkdir(claim_id)"
            ]
        },
        {
            "cell_type": "code",
            "execution_count": 276,
            "metadata": {},
            "outputs": [],
            "source": [
                "dest = r'C:\\Users\\sarav\\Downloads'+'\\\\'+claim_id"
            ]
        },
        {
            "cell_type": "code",
            "execution_count": 277,
            "metadata": {},
            "outputs": [],
            "source": [
                "src = r'C:\\Users\\sarav\\Downloads'"
            ]
        },
        {
            "cell_type": "code",
            "execution_count": 278,
            "metadata": {},
            "outputs": [],
            "source": [
                "f = os.listdir(src)"
            ]
        },
        {
            "cell_type": "code",
            "execution_count": 279,
            "metadata": {},
            "outputs": [
                {
                    "data": {
                        "text/plain": [
                            "['2019013165036',\n",
                            " '2021013017339',\n",
                            " '2021013017835',\n",
                            " '2021013017835(Invoice).pdf',\n",
                            " '2021013017835(Picture).pdf',\n",
                            " '2021013017835(Report).pdf',\n",
                            " '2021013166915']"
                        ]
                    },
                    "execution_count": 279,
                    "metadata": {},
                    "output_type": "execute_result"
                }
            ],
            "source": [
                "f"
            ]
        },
        {
            "cell_type": "code",
            "execution_count": 280,
            "metadata": {},
            "outputs": [],
            "source": [
                "for x in f:\n",
                "    if x.endswith('.pdf'):\n",
                "        shutil.move(x,dest)"
            ]
        }
    ],
    "metadata": {
        "interpreter": {
            "hash": "38740d3277777e2cd7c6c2cc9d8addf5118fdf3f82b1b39231fd12aeac8aee8b"
        },
        "kernelspec": {
            "display_name": "Python 3.9.6 64-bit",
            "name": "python3"
        },
        "language_info": {
            "codemirror_mode": {
                "name": "ipython",
                "version": 3
            },
            "file_extension": ".py",
            "mimetype": "text/x-python",
            "name": "python",
            "nbconvert_exporter": "python",
            "pygments_lexer": "ipython3",
            "version": "3.9.6"
        },
        "orig_nbformat": 4
    },
    "nbformat": 4,
    "nbformat_minor": 2
}
