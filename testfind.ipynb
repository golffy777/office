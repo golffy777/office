{
 "cells": [
  {
   "cell_type": "code",
   "execution_count": 1,
   "metadata": {},
   "outputs": [],
   "source": [
    "from selenium import webdriver\n",
    "from selenium.webdriver.support.ui import WebDriverWait\n",
    "from selenium.webdriver.support import expected_conditions as EC\n",
    "from selenium.webdriver.common.by import By\n",
    "from selenium.webdriver.common.keys import Keys\n",
    "import pyautogui\n",
    "import time\n",
    "import os\n",
    "import shutil\n",
    "from selenium.webdriver.chrome.options import Options\n",
    "import pandas as pd"
   ]
  },
  {
   "cell_type": "code",
   "execution_count": 2,
   "metadata": {},
   "outputs": [],
   "source": [
    "driver = webdriver.Chrome(executable_path=r'C:\\Users\\sarav\\Desktop\\xyz88-master\\chromedriver.exe')"
   ]
  },
  {
   "cell_type": "code",
   "execution_count": 3,
   "metadata": {},
   "outputs": [],
   "source": [
    "driver.get('https://eclaim3.emcsthai.com/esurvey/frmLogin.aspx')\n",
    "driver.maximize_window()\n",
    "dcwh = driver.current_window_handle\n",
    "driver.find_element_by_id('txtUserName').send_keys('noppadol@se.co.th')\n",
    "driver.find_element_by_id('txtPassWord').send_keys('Somboonkul1501*')\n",
    "driver.find_element_by_id('imbLogin').click()\n",
    "driver.find_element_by_id('btnEnter').click()"
   ]
  },
  {
   "cell_type": "code",
   "execution_count": 4,
   "metadata": {},
   "outputs": [
    {
     "name": "stderr",
     "output_type": "stream",
     "text": [
      "C:\\Users\\sarav\\AppData\\Local\\Temp/ipykernel_11740/3003755061.py:4: DeprecationWarning: use driver.switch_to.window instead\n",
      "  driver.switch_to_window(dcwh)\n"
     ]
    }
   ],
   "source": [
    "allhandle_windows = driver.window_handles\n",
    "for handle in allhandle_windows:\n",
    "    if handle != dcwh:\n",
    "        driver.switch_to_window(dcwh)"
   ]
  },
  {
   "cell_type": "code",
   "execution_count": 6,
   "metadata": {},
   "outputs": [],
   "source": [
    "time.sleep(2)\n",
    "driver.find_element_by_id('dgvInbox_ctl03_sname').click()"
   ]
  },
  {
   "cell_type": "code",
   "execution_count": 33,
   "metadata": {},
   "outputs": [],
   "source": [
    "all_data = []\n",
    "all_data = driver.find_elements_by_xpath('//*[@id=\"dgvList\"]/tbody/tr')"
   ]
  },
  {
   "cell_type": "code",
   "execution_count": 34,
   "metadata": {},
   "outputs": [],
   "source": [
    "data = []\n",
    "for count, value in enumerate(all_data):\n",
    "    if count > 0 and count < 16:\n",
    "        data.append(value.text)\n",
    "        data_frame = pd.DataFrame(data)\n",
    "        data_frame.columns = ['Table']\n",
    "\n",
    "        df_splite = data_frame.Table.str.extract('(\\d\\d)(\\D{6})(\\d{4})(\\s)(\\d\\d\\W\\d\\d)(\\s)(\\D\\d{11})')\n",
    "        df_splite.columns = ['Day', 'Month', 'Year','blank1', 'Time', 'blank2', 'Claim']\n",
    "        df_s = df_splite.drop(columns=['blank1', 'blank2'])\n",
    "\n",
    "        d = df_s['Day'].values\n",
    "        m = df_s['Month'].values\n",
    "        t = df_s['Time'].values\n",
    "        y = df_s['Year'].values\n",
    "        c = df_s['Claim'].values\n",
    "\n",
    "        d_list = list(df_s['Day'].values)\n",
    "        m_list = list(df_s['Month'].values)\n",
    "        t_list = list(df_s['Time'].values)\n",
    "        y_list = list(df_s['Year'].values)\n",
    "        c_list = list(df_s['Claim'].values)"
   ]
  },
  {
   "cell_type": "code",
   "execution_count": 38,
   "metadata": {},
   "outputs": [
    {
     "data": {
      "text/html": [
       "<div>\n",
       "<style scoped>\n",
       "    .dataframe tbody tr th:only-of-type {\n",
       "        vertical-align: middle;\n",
       "    }\n",
       "\n",
       "    .dataframe tbody tr th {\n",
       "        vertical-align: top;\n",
       "    }\n",
       "\n",
       "    .dataframe thead th {\n",
       "        text-align: right;\n",
       "    }\n",
       "</style>\n",
       "<table border=\"1\" class=\"dataframe\">\n",
       "  <thead>\n",
       "    <tr style=\"text-align: right;\">\n",
       "      <th></th>\n",
       "      <th>Day</th>\n",
       "      <th>Month</th>\n",
       "      <th>Year</th>\n",
       "      <th>Time</th>\n",
       "      <th>Claim</th>\n",
       "    </tr>\n",
       "  </thead>\n",
       "  <tbody>\n",
       "    <tr>\n",
       "      <th>0</th>\n",
       "      <td>01</td>\n",
       "      <td>/พ.ย./</td>\n",
       "      <td>2564</td>\n",
       "      <td>15:37</td>\n",
       "      <td>S68421110124</td>\n",
       "    </tr>\n",
       "    <tr>\n",
       "      <th>1</th>\n",
       "      <td>01</td>\n",
       "      <td>/พ.ย./</td>\n",
       "      <td>2564</td>\n",
       "      <td>15:35</td>\n",
       "      <td>S68421110107</td>\n",
       "    </tr>\n",
       "    <tr>\n",
       "      <th>2</th>\n",
       "      <td>01</td>\n",
       "      <td>/พ.ย./</td>\n",
       "      <td>2564</td>\n",
       "      <td>15:33</td>\n",
       "      <td>S68421103739</td>\n",
       "    </tr>\n",
       "    <tr>\n",
       "      <th>3</th>\n",
       "      <td>01</td>\n",
       "      <td>/พ.ย./</td>\n",
       "      <td>2564</td>\n",
       "      <td>15:29</td>\n",
       "      <td>S68421110086</td>\n",
       "    </tr>\n",
       "    <tr>\n",
       "      <th>4</th>\n",
       "      <td>01</td>\n",
       "      <td>/พ.ย./</td>\n",
       "      <td>2564</td>\n",
       "      <td>15:27</td>\n",
       "      <td>S68421103737</td>\n",
       "    </tr>\n",
       "    <tr>\n",
       "      <th>5</th>\n",
       "      <td>01</td>\n",
       "      <td>/พ.ย./</td>\n",
       "      <td>2564</td>\n",
       "      <td>15:25</td>\n",
       "      <td>S68421103730</td>\n",
       "    </tr>\n",
       "    <tr>\n",
       "      <th>6</th>\n",
       "      <td>01</td>\n",
       "      <td>/พ.ย./</td>\n",
       "      <td>2564</td>\n",
       "      <td>15:24</td>\n",
       "      <td>S68421102888</td>\n",
       "    </tr>\n",
       "    <tr>\n",
       "      <th>7</th>\n",
       "      <td>01</td>\n",
       "      <td>/พ.ย./</td>\n",
       "      <td>2564</td>\n",
       "      <td>15:24</td>\n",
       "      <td>S68421110116</td>\n",
       "    </tr>\n",
       "    <tr>\n",
       "      <th>8</th>\n",
       "      <td>01</td>\n",
       "      <td>/พ.ย./</td>\n",
       "      <td>2564</td>\n",
       "      <td>15:22</td>\n",
       "      <td>S68421110064</td>\n",
       "    </tr>\n",
       "    <tr>\n",
       "      <th>9</th>\n",
       "      <td>01</td>\n",
       "      <td>/พ.ย./</td>\n",
       "      <td>2564</td>\n",
       "      <td>15:22</td>\n",
       "      <td>S68421103734</td>\n",
       "    </tr>\n",
       "    <tr>\n",
       "      <th>10</th>\n",
       "      <td>01</td>\n",
       "      <td>/พ.ย./</td>\n",
       "      <td>2564</td>\n",
       "      <td>15:20</td>\n",
       "      <td>S68421103824</td>\n",
       "    </tr>\n",
       "    <tr>\n",
       "      <th>11</th>\n",
       "      <td>01</td>\n",
       "      <td>/พ.ย./</td>\n",
       "      <td>2564</td>\n",
       "      <td>15:20</td>\n",
       "      <td>S68421110101</td>\n",
       "    </tr>\n",
       "    <tr>\n",
       "      <th>12</th>\n",
       "      <td>01</td>\n",
       "      <td>/พ.ย./</td>\n",
       "      <td>2564</td>\n",
       "      <td>15:19</td>\n",
       "      <td>S68421103728</td>\n",
       "    </tr>\n",
       "    <tr>\n",
       "      <th>13</th>\n",
       "      <td>01</td>\n",
       "      <td>/พ.ย./</td>\n",
       "      <td>2564</td>\n",
       "      <td>15:17</td>\n",
       "      <td>S68421110111</td>\n",
       "    </tr>\n",
       "    <tr>\n",
       "      <th>14</th>\n",
       "      <td>01</td>\n",
       "      <td>/พ.ย./</td>\n",
       "      <td>2564</td>\n",
       "      <td>15:13</td>\n",
       "      <td>S68421103727</td>\n",
       "    </tr>\n",
       "  </tbody>\n",
       "</table>\n",
       "</div>"
      ],
      "text/plain": [
       "   Day   Month  Year   Time         Claim\n",
       "0   01  /พ.ย./  2564  15:37  S68421110124\n",
       "1   01  /พ.ย./  2564  15:35  S68421110107\n",
       "2   01  /พ.ย./  2564  15:33  S68421103739\n",
       "3   01  /พ.ย./  2564  15:29  S68421110086\n",
       "4   01  /พ.ย./  2564  15:27  S68421103737\n",
       "5   01  /พ.ย./  2564  15:25  S68421103730\n",
       "6   01  /พ.ย./  2564  15:24  S68421102888\n",
       "7   01  /พ.ย./  2564  15:24  S68421110116\n",
       "8   01  /พ.ย./  2564  15:22  S68421110064\n",
       "9   01  /พ.ย./  2564  15:22  S68421103734\n",
       "10  01  /พ.ย./  2564  15:20  S68421103824\n",
       "11  01  /พ.ย./  2564  15:20  S68421110101\n",
       "12  01  /พ.ย./  2564  15:19  S68421103728\n",
       "13  01  /พ.ย./  2564  15:17  S68421110111\n",
       "14  01  /พ.ย./  2564  15:13  S68421103727"
      ]
     },
     "execution_count": 38,
     "metadata": {},
     "output_type": "execute_result"
    }
   ],
   "source": [
    "df_s"
   ]
  },
  {
   "cell_type": "code",
   "execution_count": 43,
   "metadata": {},
   "outputs": [],
   "source": [
    "day = '04'\n",
    "month = '/ก.ย./'\n",
    "year = '2564'"
   ]
  },
  {
   "cell_type": "code",
   "execution_count": 37,
   "metadata": {},
   "outputs": [
    {
     "name": "stdout",
     "output_type": "stream",
     "text": [
      "=\n",
      "=\n",
      "=\n",
      "=\n",
      "=\n",
      "=\n",
      "=\n",
      "=\n",
      "=\n",
      "=\n",
      "=\n",
      "=\n",
      "=\n",
      "=\n",
      "=\n"
     ]
    }
   ],
   "source": [
    "for cc,vv in enumerate(d_list):\n",
    "    if day == vv  and month == :\n",
    "        print('=')"
   ]
  },
  {
   "cell_type": "code",
   "execution_count": 51,
   "metadata": {},
   "outputs": [
    {
     "data": {
      "text/plain": [
       "0     False\n",
       "1     False\n",
       "2     False\n",
       "3     False\n",
       "4     False\n",
       "5     False\n",
       "6     False\n",
       "7     False\n",
       "8     False\n",
       "9     False\n",
       "10    False\n",
       "11    False\n",
       "12    False\n",
       "13    False\n",
       "14    False\n",
       "Name: Day, dtype: bool"
      ]
     },
     "execution_count": 51,
     "metadata": {},
     "output_type": "execute_result"
    }
   ],
   "source": [
    "df_s.Day == day\n"
   ]
  },
  {
   "cell_type": "code",
   "execution_count": null,
   "metadata": {},
   "outputs": [],
   "source": []
  }
 ],
 "metadata": {
  "interpreter": {
   "hash": "38740d3277777e2cd7c6c2cc9d8addf5118fdf3f82b1b39231fd12aeac8aee8b"
  },
  "kernelspec": {
   "display_name": "Python 3.9.6 64-bit",
   "name": "python3"
  },
  "language_info": {
   "codemirror_mode": {
    "name": "ipython",
    "version": 3
   },
   "file_extension": ".py",
   "mimetype": "text/x-python",
   "name": "python",
   "nbconvert_exporter": "python",
   "pygments_lexer": "ipython3",
   "version": "3.9.6"
  },
  "orig_nbformat": 4
 },
 "nbformat": 4,
 "nbformat_minor": 2
}
