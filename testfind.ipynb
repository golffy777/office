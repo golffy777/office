{
 "cells": [
  {
   "cell_type": "code",
   "execution_count": 17,
   "metadata": {},
   "outputs": [],
   "source": [
    "from selenium import webdriver\n",
    "from selenium.webdriver.support.ui import WebDriverWait\n",
    "from selenium.webdriver.support import expected_conditions as EC\n",
    "from selenium.webdriver.common.by import By\n",
    "from selenium.webdriver.common.keys import Keys\n",
    "import pyautogui\n",
    "import time\n",
    "import os\n",
    "import shutil\n",
    "from selenium.webdriver.chrome.options import Options\n",
    "import pandas as pd"
   ]
  },
  {
   "cell_type": "code",
   "execution_count": 18,
   "metadata": {},
   "outputs": [],
   "source": [
    "driver = webdriver.Chrome(executable_path=r'C:\\Users\\sarav\\Desktop\\xyz88-master\\chromedriver.exe')"
   ]
  },
  {
   "cell_type": "code",
   "execution_count": 19,
   "metadata": {},
   "outputs": [],
   "source": [
    "driver.get('https://eclaim3.emcsthai.com/esurvey/frmLogin.aspx')\n",
    "driver.maximize_window()\n",
    "dcwh = driver.current_window_handle\n",
    "driver.find_element_by_id('txtUserName').send_keys('noppadol@se.co.th')\n",
    "driver.find_element_by_id('txtPassWord').send_keys('Somboonkul1501*')\n",
    "driver.find_element_by_id('imbLogin').click()\n",
    "driver.find_element_by_id('btnEnter').click()"
   ]
  },
  {
   "cell_type": "code",
   "execution_count": 20,
   "metadata": {},
   "outputs": [
    {
     "name": "stderr",
     "output_type": "stream",
     "text": [
      "C:\\Users\\sarav\\AppData\\Local\\Temp/ipykernel_6972/3003755061.py:4: DeprecationWarning: use driver.switch_to.window instead\n",
      "  driver.switch_to_window(dcwh)\n"
     ]
    }
   ],
   "source": [
    "allhandle_windows = driver.window_handles\n",
    "for handle in allhandle_windows:\n",
    "    if handle != dcwh:\n",
    "        driver.switch_to_window(dcwh)"
   ]
  },
  {
   "cell_type": "code",
   "execution_count": 21,
   "metadata": {},
   "outputs": [],
   "source": [
    "time.sleep(2)\n",
    "driver.find_element_by_id('dgvInbox_ctl03_sname').click()"
   ]
  },
  {
   "cell_type": "code",
   "execution_count": 34,
   "metadata": {},
   "outputs": [],
   "source": [
    "all_data = []\n",
    "all_data = driver.find_elements_by_xpath('//*[@id=\"dgvList\"]/tbody/tr')"
   ]
  },
  {
   "cell_type": "code",
   "execution_count": 23,
   "metadata": {},
   "outputs": [],
   "source": [
    "data = []\n",
    "for count, value in enumerate(all_data):\n",
    "    if count > 0 and count < 16:\n",
    "        data.append(value.text)\n",
    "        data_frame = pd.DataFrame(data)\n",
    "        data_frame.columns = ['Table']\n",
    "\n",
    "        df_splite = data_frame.Table.str.extract('(\\d\\d)(\\D{6})(\\d{4})(\\s)(\\d\\d\\W\\d\\d)(\\s)(\\D\\d{11})')\n",
    "        df_splite.columns = ['Day', 'Month', 'Year','blank1', 'Time', 'blank2', 'Claim']\n",
    "        df_s = df_splite.drop(columns=['blank1', 'blank2'])\n",
    "\n",
    "        d = df_s['Day'].values\n",
    "        m = df_s['Month'].values\n",
    "        t = df_s['Time'].values\n",
    "        y = df_s['Year'].values\n",
    "        c = df_s['Claim'].values\n",
    "\n",
    "        d_list = list(df_s['Day'].values)\n",
    "        m_list = list(df_s['Month'].values)\n",
    "        t_list = list(df_s['Time'].values)\n",
    "        y_list = list(df_s['Year'].values)\n",
    "        c_list = list(df_s['Claim'].values)"
   ]
  },
  {
   "cell_type": "code",
   "execution_count": 35,
   "metadata": {},
   "outputs": [],
   "source": [
    "data = []\n",
    "for count, value in enumerate(all_data):\n",
    "    data.append(value.text)\n",
    "    data_frame = pd.DataFrame(data)\n",
    "    data_frame.columns = ['Table']\n",
    "\n",
    "    df_splite = data_frame.Table.str.extract('(\\d\\d)(\\D{6})(\\d{4})(\\s)(\\d\\d\\W\\d\\d)(\\s)(\\D\\d{11})')\n",
    "    df_splite.columns = ['Day', 'Month', 'Year','blank1', 'Time', 'blank2', 'Claim']\n",
    "    df_s = df_splite.drop(columns=['blank1', 'blank2'])\n",
    "\n",
    "    d = df_s['Day'].values\n",
    "    m = df_s['Month'].values\n",
    "    t = df_s['Time'].values\n",
    "    y = df_s['Year'].values\n",
    "    c = df_s['Claim'].values\n",
    "\n",
    "    d_list = list(df_s['Day'].values)\n",
    "    m_list = list(df_s['Month'].values)\n",
    "    t_list = list(df_s['Time'].values)\n",
    "    y_list = list(df_s['Year'].values)\n",
    "    c_list = list(df_s['Claim'].values)"
   ]
  },
  {
   "cell_type": "code",
   "execution_count": 36,
   "metadata": {},
   "outputs": [
    {
     "data": {
      "text/html": [
       "<div>\n",
       "<style scoped>\n",
       "    .dataframe tbody tr th:only-of-type {\n",
       "        vertical-align: middle;\n",
       "    }\n",
       "\n",
       "    .dataframe tbody tr th {\n",
       "        vertical-align: top;\n",
       "    }\n",
       "\n",
       "    .dataframe thead th {\n",
       "        text-align: right;\n",
       "    }\n",
       "</style>\n",
       "<table border=\"1\" class=\"dataframe\">\n",
       "  <thead>\n",
       "    <tr style=\"text-align: right;\">\n",
       "      <th></th>\n",
       "      <th>Day</th>\n",
       "      <th>Month</th>\n",
       "      <th>Year</th>\n",
       "      <th>Time</th>\n",
       "      <th>Claim</th>\n",
       "    </tr>\n",
       "  </thead>\n",
       "  <tbody>\n",
       "    <tr>\n",
       "      <th>0</th>\n",
       "      <td>NaN</td>\n",
       "      <td>NaN</td>\n",
       "      <td>NaN</td>\n",
       "      <td>NaN</td>\n",
       "      <td>NaN</td>\n",
       "    </tr>\n",
       "    <tr>\n",
       "      <th>1</th>\n",
       "      <td>19</td>\n",
       "      <td>/ต.ค./</td>\n",
       "      <td>2564</td>\n",
       "      <td>20:26</td>\n",
       "      <td>S68421102591</td>\n",
       "    </tr>\n",
       "    <tr>\n",
       "      <th>2</th>\n",
       "      <td>19</td>\n",
       "      <td>/ต.ค./</td>\n",
       "      <td>2564</td>\n",
       "      <td>20:21</td>\n",
       "      <td>S68421102592</td>\n",
       "    </tr>\n",
       "    <tr>\n",
       "      <th>3</th>\n",
       "      <td>19</td>\n",
       "      <td>/ต.ค./</td>\n",
       "      <td>2564</td>\n",
       "      <td>20:17</td>\n",
       "      <td>S68421102577</td>\n",
       "    </tr>\n",
       "    <tr>\n",
       "      <th>4</th>\n",
       "      <td>19</td>\n",
       "      <td>/ต.ค./</td>\n",
       "      <td>2564</td>\n",
       "      <td>18:06</td>\n",
       "      <td>S68421081070</td>\n",
       "    </tr>\n",
       "    <tr>\n",
       "      <th>5</th>\n",
       "      <td>19</td>\n",
       "      <td>/ต.ค./</td>\n",
       "      <td>2564</td>\n",
       "      <td>16:42</td>\n",
       "      <td>S68421102564</td>\n",
       "    </tr>\n",
       "    <tr>\n",
       "      <th>6</th>\n",
       "      <td>19</td>\n",
       "      <td>/ต.ค./</td>\n",
       "      <td>2564</td>\n",
       "      <td>16:20</td>\n",
       "      <td>S68421102328</td>\n",
       "    </tr>\n",
       "    <tr>\n",
       "      <th>7</th>\n",
       "      <td>19</td>\n",
       "      <td>/ต.ค./</td>\n",
       "      <td>2564</td>\n",
       "      <td>16:16</td>\n",
       "      <td>S68421101949</td>\n",
       "    </tr>\n",
       "    <tr>\n",
       "      <th>8</th>\n",
       "      <td>19</td>\n",
       "      <td>/ต.ค./</td>\n",
       "      <td>2564</td>\n",
       "      <td>16:13</td>\n",
       "      <td>S68421102301</td>\n",
       "    </tr>\n",
       "    <tr>\n",
       "      <th>9</th>\n",
       "      <td>19</td>\n",
       "      <td>/ต.ค./</td>\n",
       "      <td>2564</td>\n",
       "      <td>15:58</td>\n",
       "      <td>S68421102015</td>\n",
       "    </tr>\n",
       "    <tr>\n",
       "      <th>10</th>\n",
       "      <td>19</td>\n",
       "      <td>/ต.ค./</td>\n",
       "      <td>2564</td>\n",
       "      <td>15:46</td>\n",
       "      <td>S68421102013</td>\n",
       "    </tr>\n",
       "    <tr>\n",
       "      <th>11</th>\n",
       "      <td>19</td>\n",
       "      <td>/ต.ค./</td>\n",
       "      <td>2564</td>\n",
       "      <td>15:25</td>\n",
       "      <td>S68421102012</td>\n",
       "    </tr>\n",
       "    <tr>\n",
       "      <th>12</th>\n",
       "      <td>19</td>\n",
       "      <td>/ต.ค./</td>\n",
       "      <td>2564</td>\n",
       "      <td>15:22</td>\n",
       "      <td>S68421102011</td>\n",
       "    </tr>\n",
       "    <tr>\n",
       "      <th>13</th>\n",
       "      <td>19</td>\n",
       "      <td>/ต.ค./</td>\n",
       "      <td>2564</td>\n",
       "      <td>15:16</td>\n",
       "      <td>S68421102009</td>\n",
       "    </tr>\n",
       "    <tr>\n",
       "      <th>14</th>\n",
       "      <td>19</td>\n",
       "      <td>/ต.ค./</td>\n",
       "      <td>2564</td>\n",
       "      <td>15:11</td>\n",
       "      <td>S68421102008</td>\n",
       "    </tr>\n",
       "    <tr>\n",
       "      <th>15</th>\n",
       "      <td>19</td>\n",
       "      <td>/ต.ค./</td>\n",
       "      <td>2564</td>\n",
       "      <td>14:56</td>\n",
       "      <td>S68421102007</td>\n",
       "    </tr>\n",
       "    <tr>\n",
       "      <th>16</th>\n",
       "      <td>NaN</td>\n",
       "      <td>NaN</td>\n",
       "      <td>NaN</td>\n",
       "      <td>NaN</td>\n",
       "      <td>NaN</td>\n",
       "    </tr>\n",
       "  </tbody>\n",
       "</table>\n",
       "</div>"
      ],
      "text/plain": [
       "    Day   Month  Year   Time         Claim\n",
       "0   NaN     NaN   NaN    NaN           NaN\n",
       "1    19  /ต.ค./  2564  20:26  S68421102591\n",
       "2    19  /ต.ค./  2564  20:21  S68421102592\n",
       "3    19  /ต.ค./  2564  20:17  S68421102577\n",
       "4    19  /ต.ค./  2564  18:06  S68421081070\n",
       "5    19  /ต.ค./  2564  16:42  S68421102564\n",
       "6    19  /ต.ค./  2564  16:20  S68421102328\n",
       "7    19  /ต.ค./  2564  16:16  S68421101949\n",
       "8    19  /ต.ค./  2564  16:13  S68421102301\n",
       "9    19  /ต.ค./  2564  15:58  S68421102015\n",
       "10   19  /ต.ค./  2564  15:46  S68421102013\n",
       "11   19  /ต.ค./  2564  15:25  S68421102012\n",
       "12   19  /ต.ค./  2564  15:22  S68421102011\n",
       "13   19  /ต.ค./  2564  15:16  S68421102009\n",
       "14   19  /ต.ค./  2564  15:11  S68421102008\n",
       "15   19  /ต.ค./  2564  14:56  S68421102007\n",
       "16  NaN     NaN   NaN    NaN           NaN"
      ]
     },
     "execution_count": 36,
     "metadata": {},
     "output_type": "execute_result"
    }
   ],
   "source": [
    "df_s"
   ]
  },
  {
   "cell_type": "code",
   "execution_count": 37,
   "metadata": {},
   "outputs": [
    {
     "data": {
      "text/html": [
       "<div>\n",
       "<style scoped>\n",
       "    .dataframe tbody tr th:only-of-type {\n",
       "        vertical-align: middle;\n",
       "    }\n",
       "\n",
       "    .dataframe tbody tr th {\n",
       "        vertical-align: top;\n",
       "    }\n",
       "\n",
       "    .dataframe thead th {\n",
       "        text-align: right;\n",
       "    }\n",
       "</style>\n",
       "<table border=\"1\" class=\"dataframe\">\n",
       "  <thead>\n",
       "    <tr style=\"text-align: right;\">\n",
       "      <th></th>\n",
       "      <th>Day</th>\n",
       "      <th>Month</th>\n",
       "      <th>Year</th>\n",
       "      <th>Time</th>\n",
       "      <th>Claim</th>\n",
       "    </tr>\n",
       "  </thead>\n",
       "  <tbody>\n",
       "    <tr>\n",
       "      <th>1</th>\n",
       "      <td>19</td>\n",
       "      <td>/ต.ค./</td>\n",
       "      <td>2564</td>\n",
       "      <td>20:26</td>\n",
       "      <td>S68421102591</td>\n",
       "    </tr>\n",
       "    <tr>\n",
       "      <th>2</th>\n",
       "      <td>19</td>\n",
       "      <td>/ต.ค./</td>\n",
       "      <td>2564</td>\n",
       "      <td>20:21</td>\n",
       "      <td>S68421102592</td>\n",
       "    </tr>\n",
       "    <tr>\n",
       "      <th>3</th>\n",
       "      <td>19</td>\n",
       "      <td>/ต.ค./</td>\n",
       "      <td>2564</td>\n",
       "      <td>20:17</td>\n",
       "      <td>S68421102577</td>\n",
       "    </tr>\n",
       "    <tr>\n",
       "      <th>4</th>\n",
       "      <td>19</td>\n",
       "      <td>/ต.ค./</td>\n",
       "      <td>2564</td>\n",
       "      <td>18:06</td>\n",
       "      <td>S68421081070</td>\n",
       "    </tr>\n",
       "    <tr>\n",
       "      <th>5</th>\n",
       "      <td>19</td>\n",
       "      <td>/ต.ค./</td>\n",
       "      <td>2564</td>\n",
       "      <td>16:42</td>\n",
       "      <td>S68421102564</td>\n",
       "    </tr>\n",
       "    <tr>\n",
       "      <th>6</th>\n",
       "      <td>19</td>\n",
       "      <td>/ต.ค./</td>\n",
       "      <td>2564</td>\n",
       "      <td>16:20</td>\n",
       "      <td>S68421102328</td>\n",
       "    </tr>\n",
       "    <tr>\n",
       "      <th>7</th>\n",
       "      <td>19</td>\n",
       "      <td>/ต.ค./</td>\n",
       "      <td>2564</td>\n",
       "      <td>16:16</td>\n",
       "      <td>S68421101949</td>\n",
       "    </tr>\n",
       "    <tr>\n",
       "      <th>8</th>\n",
       "      <td>19</td>\n",
       "      <td>/ต.ค./</td>\n",
       "      <td>2564</td>\n",
       "      <td>16:13</td>\n",
       "      <td>S68421102301</td>\n",
       "    </tr>\n",
       "    <tr>\n",
       "      <th>9</th>\n",
       "      <td>19</td>\n",
       "      <td>/ต.ค./</td>\n",
       "      <td>2564</td>\n",
       "      <td>15:58</td>\n",
       "      <td>S68421102015</td>\n",
       "    </tr>\n",
       "    <tr>\n",
       "      <th>10</th>\n",
       "      <td>19</td>\n",
       "      <td>/ต.ค./</td>\n",
       "      <td>2564</td>\n",
       "      <td>15:46</td>\n",
       "      <td>S68421102013</td>\n",
       "    </tr>\n",
       "    <tr>\n",
       "      <th>11</th>\n",
       "      <td>19</td>\n",
       "      <td>/ต.ค./</td>\n",
       "      <td>2564</td>\n",
       "      <td>15:25</td>\n",
       "      <td>S68421102012</td>\n",
       "    </tr>\n",
       "    <tr>\n",
       "      <th>12</th>\n",
       "      <td>19</td>\n",
       "      <td>/ต.ค./</td>\n",
       "      <td>2564</td>\n",
       "      <td>15:22</td>\n",
       "      <td>S68421102011</td>\n",
       "    </tr>\n",
       "    <tr>\n",
       "      <th>13</th>\n",
       "      <td>19</td>\n",
       "      <td>/ต.ค./</td>\n",
       "      <td>2564</td>\n",
       "      <td>15:16</td>\n",
       "      <td>S68421102009</td>\n",
       "    </tr>\n",
       "    <tr>\n",
       "      <th>14</th>\n",
       "      <td>19</td>\n",
       "      <td>/ต.ค./</td>\n",
       "      <td>2564</td>\n",
       "      <td>15:11</td>\n",
       "      <td>S68421102008</td>\n",
       "    </tr>\n",
       "    <tr>\n",
       "      <th>15</th>\n",
       "      <td>19</td>\n",
       "      <td>/ต.ค./</td>\n",
       "      <td>2564</td>\n",
       "      <td>14:56</td>\n",
       "      <td>S68421102007</td>\n",
       "    </tr>\n",
       "  </tbody>\n",
       "</table>\n",
       "</div>"
      ],
      "text/plain": [
       "   Day   Month  Year   Time         Claim\n",
       "1   19  /ต.ค./  2564  20:26  S68421102591\n",
       "2   19  /ต.ค./  2564  20:21  S68421102592\n",
       "3   19  /ต.ค./  2564  20:17  S68421102577\n",
       "4   19  /ต.ค./  2564  18:06  S68421081070\n",
       "5   19  /ต.ค./  2564  16:42  S68421102564\n",
       "6   19  /ต.ค./  2564  16:20  S68421102328\n",
       "7   19  /ต.ค./  2564  16:16  S68421101949\n",
       "8   19  /ต.ค./  2564  16:13  S68421102301\n",
       "9   19  /ต.ค./  2564  15:58  S68421102015\n",
       "10  19  /ต.ค./  2564  15:46  S68421102013\n",
       "11  19  /ต.ค./  2564  15:25  S68421102012\n",
       "12  19  /ต.ค./  2564  15:22  S68421102011\n",
       "13  19  /ต.ค./  2564  15:16  S68421102009\n",
       "14  19  /ต.ค./  2564  15:11  S68421102008\n",
       "15  19  /ต.ค./  2564  14:56  S68421102007"
      ]
     },
     "execution_count": 37,
     "metadata": {},
     "output_type": "execute_result"
    }
   ],
   "source": [
    "df_s.loc[1:15]"
   ]
  },
  {
   "cell_type": "code",
   "execution_count": 43,
   "metadata": {},
   "outputs": [],
   "source": [
    "day = '04'\n",
    "month = '/ก.ย./'\n",
    "year = '2564'"
   ]
  },
  {
   "cell_type": "code",
   "execution_count": 37,
   "metadata": {},
   "outputs": [
    {
     "name": "stdout",
     "output_type": "stream",
     "text": [
      "=\n",
      "=\n",
      "=\n",
      "=\n",
      "=\n",
      "=\n",
      "=\n",
      "=\n",
      "=\n",
      "=\n",
      "=\n",
      "=\n",
      "=\n",
      "=\n",
      "=\n"
     ]
    }
   ],
   "source": [
    "for cc,vv in enumerate(d_list):\n",
    "    if day == vv  and month == :\n",
    "        print('=')"
   ]
  },
  {
   "cell_type": "code",
   "execution_count": 51,
   "metadata": {},
   "outputs": [
    {
     "data": {
      "text/plain": [
       "0     False\n",
       "1     False\n",
       "2     False\n",
       "3     False\n",
       "4     False\n",
       "5     False\n",
       "6     False\n",
       "7     False\n",
       "8     False\n",
       "9     False\n",
       "10    False\n",
       "11    False\n",
       "12    False\n",
       "13    False\n",
       "14    False\n",
       "Name: Day, dtype: bool"
      ]
     },
     "execution_count": 51,
     "metadata": {},
     "output_type": "execute_result"
    }
   ],
   "source": [
    "df_s.Day == day\n"
   ]
  },
  {
   "cell_type": "code",
   "execution_count": 1,
   "metadata": {},
   "outputs": [],
   "source": [
    "import pandas as pd"
   ]
  },
  {
   "cell_type": "code",
   "execution_count": 2,
   "metadata": {},
   "outputs": [],
   "source": [
    "items = [10,20,30,40]\n"
   ]
  },
  {
   "cell_type": "code",
   "execution_count": 3,
   "metadata": {},
   "outputs": [],
   "source": [
    "ps = pd.Series(items)"
   ]
  },
  {
   "cell_type": "code",
   "execution_count": 4,
   "metadata": {},
   "outputs": [
    {
     "data": {
      "text/plain": [
       "0    10\n",
       "1    20\n",
       "2    30\n",
       "3    40\n",
       "dtype: int64"
      ]
     },
     "execution_count": 4,
     "metadata": {},
     "output_type": "execute_result"
    }
   ],
   "source": [
    "ps"
   ]
  },
  {
   "cell_type": "code",
   "execution_count": 5,
   "metadata": {},
   "outputs": [],
   "source": [
    "idex = [100,200,300,400]"
   ]
  },
  {
   "cell_type": "code",
   "execution_count": 6,
   "metadata": {},
   "outputs": [],
   "source": [
    "ps=pd.Series(items,index=idex)"
   ]
  },
  {
   "cell_type": "code",
   "execution_count": 7,
   "metadata": {},
   "outputs": [
    {
     "data": {
      "text/plain": [
       "100    10\n",
       "200    20\n",
       "300    30\n",
       "400    40\n",
       "dtype: int64"
      ]
     },
     "execution_count": 7,
     "metadata": {},
     "output_type": "execute_result"
    }
   ],
   "source": [
    "ps"
   ]
  },
  {
   "cell_type": "code",
   "execution_count": 12,
   "metadata": {},
   "outputs": [],
   "source": [
    "sr = {\"mango\":\"มะม่วง\",\"coconut\":\"มะพร้าว\"}"
   ]
  },
  {
   "cell_type": "code",
   "execution_count": 13,
   "metadata": {},
   "outputs": [],
   "source": [
    "ps=pd.Series(sr)"
   ]
  },
  {
   "cell_type": "code",
   "execution_count": 14,
   "metadata": {},
   "outputs": [
    {
     "data": {
      "text/plain": [
       "mango       มะม่วง\n",
       "coconut    มะพร้าว\n",
       "dtype: object"
      ]
     },
     "execution_count": 14,
     "metadata": {},
     "output_type": "execute_result"
    }
   ],
   "source": [
    "ps"
   ]
  },
  {
   "cell_type": "code",
   "execution_count": 15,
   "metadata": {},
   "outputs": [
    {
     "data": {
      "text/plain": [
       "30"
      ]
     },
     "execution_count": 15,
     "metadata": {},
     "output_type": "execute_result"
    }
   ],
   "source": [
    "items[2]"
   ]
  },
  {
   "cell_type": "code",
   "execution_count": 16,
   "metadata": {},
   "outputs": [
    {
     "data": {
      "text/plain": [
       "[30, 40]"
      ]
     },
     "execution_count": 16,
     "metadata": {},
     "output_type": "execute_result"
    }
   ],
   "source": [
    "items[2:]"
   ]
  },
  {
   "cell_type": "code",
   "execution_count": 38,
   "metadata": {},
   "outputs": [],
   "source": [
    "datas = [10,20,30,40,50]"
   ]
  },
  {
   "cell_type": "code",
   "execution_count": 47,
   "metadata": {},
   "outputs": [],
   "source": [
    "cols = ['อายุ']\n",
    "ps = pd.DataFrame(datas,columns=cols)"
   ]
  },
  {
   "cell_type": "code",
   "execution_count": 48,
   "metadata": {},
   "outputs": [
    {
     "data": {
      "text/html": [
       "<div>\n",
       "<style scoped>\n",
       "    .dataframe tbody tr th:only-of-type {\n",
       "        vertical-align: middle;\n",
       "    }\n",
       "\n",
       "    .dataframe tbody tr th {\n",
       "        vertical-align: top;\n",
       "    }\n",
       "\n",
       "    .dataframe thead th {\n",
       "        text-align: right;\n",
       "    }\n",
       "</style>\n",
       "<table border=\"1\" class=\"dataframe\">\n",
       "  <thead>\n",
       "    <tr style=\"text-align: right;\">\n",
       "      <th></th>\n",
       "      <th>อายุ</th>\n",
       "    </tr>\n",
       "  </thead>\n",
       "  <tbody>\n",
       "    <tr>\n",
       "      <th>0</th>\n",
       "      <td>10</td>\n",
       "    </tr>\n",
       "    <tr>\n",
       "      <th>1</th>\n",
       "      <td>20</td>\n",
       "    </tr>\n",
       "    <tr>\n",
       "      <th>2</th>\n",
       "      <td>30</td>\n",
       "    </tr>\n",
       "    <tr>\n",
       "      <th>3</th>\n",
       "      <td>40</td>\n",
       "    </tr>\n",
       "    <tr>\n",
       "      <th>4</th>\n",
       "      <td>50</td>\n",
       "    </tr>\n",
       "  </tbody>\n",
       "</table>\n",
       "</div>"
      ],
      "text/plain": [
       "   อายุ\n",
       "0    10\n",
       "1    20\n",
       "2    30\n",
       "3    40\n",
       "4    50"
      ]
     },
     "execution_count": 48,
     "metadata": {},
     "output_type": "execute_result"
    }
   ],
   "source": [
    "ps"
   ]
  },
  {
   "cell_type": "code",
   "execution_count": 50,
   "metadata": {},
   "outputs": [],
   "source": [
    "datas = [['keyboard','It',4000],['baby','toy','500'],['mouse','It','300']]"
   ]
  },
  {
   "cell_type": "code",
   "execution_count": 51,
   "metadata": {},
   "outputs": [],
   "source": [
    "ps = pd.DataFrame(datas)"
   ]
  },
  {
   "cell_type": "code",
   "execution_count": 52,
   "metadata": {},
   "outputs": [
    {
     "data": {
      "text/html": [
       "<div>\n",
       "<style scoped>\n",
       "    .dataframe tbody tr th:only-of-type {\n",
       "        vertical-align: middle;\n",
       "    }\n",
       "\n",
       "    .dataframe tbody tr th {\n",
       "        vertical-align: top;\n",
       "    }\n",
       "\n",
       "    .dataframe thead th {\n",
       "        text-align: right;\n",
       "    }\n",
       "</style>\n",
       "<table border=\"1\" class=\"dataframe\">\n",
       "  <thead>\n",
       "    <tr style=\"text-align: right;\">\n",
       "      <th></th>\n",
       "      <th>0</th>\n",
       "      <th>1</th>\n",
       "      <th>2</th>\n",
       "    </tr>\n",
       "  </thead>\n",
       "  <tbody>\n",
       "    <tr>\n",
       "      <th>0</th>\n",
       "      <td>keyboard</td>\n",
       "      <td>It</td>\n",
       "      <td>4000</td>\n",
       "    </tr>\n",
       "    <tr>\n",
       "      <th>1</th>\n",
       "      <td>baby</td>\n",
       "      <td>toy</td>\n",
       "      <td>500</td>\n",
       "    </tr>\n",
       "    <tr>\n",
       "      <th>2</th>\n",
       "      <td>mouse</td>\n",
       "      <td>It</td>\n",
       "      <td>300</td>\n",
       "    </tr>\n",
       "  </tbody>\n",
       "</table>\n",
       "</div>"
      ],
      "text/plain": [
       "          0    1     2\n",
       "0  keyboard   It  4000\n",
       "1      baby  toy   500\n",
       "2     mouse   It   300"
      ]
     },
     "execution_count": 52,
     "metadata": {},
     "output_type": "execute_result"
    }
   ],
   "source": [
    "ps"
   ]
  },
  {
   "cell_type": "code",
   "execution_count": 57,
   "metadata": {},
   "outputs": [],
   "source": [
    "cols =['Name','Catagory','Price']"
   ]
  },
  {
   "cell_type": "code",
   "execution_count": 58,
   "metadata": {},
   "outputs": [],
   "source": [
    "ps= pd.DataFrame(datas,columns=cols)"
   ]
  },
  {
   "cell_type": "code",
   "execution_count": 59,
   "metadata": {},
   "outputs": [
    {
     "data": {
      "text/html": [
       "<div>\n",
       "<style scoped>\n",
       "    .dataframe tbody tr th:only-of-type {\n",
       "        vertical-align: middle;\n",
       "    }\n",
       "\n",
       "    .dataframe tbody tr th {\n",
       "        vertical-align: top;\n",
       "    }\n",
       "\n",
       "    .dataframe thead th {\n",
       "        text-align: right;\n",
       "    }\n",
       "</style>\n",
       "<table border=\"1\" class=\"dataframe\">\n",
       "  <thead>\n",
       "    <tr style=\"text-align: right;\">\n",
       "      <th></th>\n",
       "      <th>Name</th>\n",
       "      <th>Catagory</th>\n",
       "      <th>Price</th>\n",
       "    </tr>\n",
       "  </thead>\n",
       "  <tbody>\n",
       "    <tr>\n",
       "      <th>0</th>\n",
       "      <td>keyboard</td>\n",
       "      <td>It</td>\n",
       "      <td>4000</td>\n",
       "    </tr>\n",
       "    <tr>\n",
       "      <th>1</th>\n",
       "      <td>baby</td>\n",
       "      <td>toy</td>\n",
       "      <td>500</td>\n",
       "    </tr>\n",
       "    <tr>\n",
       "      <th>2</th>\n",
       "      <td>mouse</td>\n",
       "      <td>It</td>\n",
       "      <td>300</td>\n",
       "    </tr>\n",
       "  </tbody>\n",
       "</table>\n",
       "</div>"
      ],
      "text/plain": [
       "       Name Catagory Price\n",
       "0  keyboard       It  4000\n",
       "1      baby      toy   500\n",
       "2     mouse       It   300"
      ]
     },
     "execution_count": 59,
     "metadata": {},
     "output_type": "execute_result"
    }
   ],
   "source": [
    "ps"
   ]
  },
  {
   "cell_type": "code",
   "execution_count": 76,
   "metadata": {},
   "outputs": [],
   "source": [
    "name = ['keybord','baby','mouse']\n",
    "category = ['it','toy','it']\n",
    "price = [3,33,333]\n",
    "\n",
    "datas = list(zip(name,category,price))"
   ]
  },
  {
   "cell_type": "code",
   "execution_count": 77,
   "metadata": {},
   "outputs": [
    {
     "data": {
      "text/plain": [
       "[('keybord', 'it', 3), ('baby', 'toy', 33), ('mouse', 'it', 333)]"
      ]
     },
     "execution_count": 77,
     "metadata": {},
     "output_type": "execute_result"
    }
   ],
   "source": [
    "datas"
   ]
  },
  {
   "cell_type": "code",
   "execution_count": 78,
   "metadata": {},
   "outputs": [
    {
     "data": {
      "text/html": [
       "<div>\n",
       "<style scoped>\n",
       "    .dataframe tbody tr th:only-of-type {\n",
       "        vertical-align: middle;\n",
       "    }\n",
       "\n",
       "    .dataframe tbody tr th {\n",
       "        vertical-align: top;\n",
       "    }\n",
       "\n",
       "    .dataframe thead th {\n",
       "        text-align: right;\n",
       "    }\n",
       "</style>\n",
       "<table border=\"1\" class=\"dataframe\">\n",
       "  <thead>\n",
       "    <tr style=\"text-align: right;\">\n",
       "      <th></th>\n",
       "      <th>Name</th>\n",
       "      <th>Catagory</th>\n",
       "      <th>Price</th>\n",
       "    </tr>\n",
       "  </thead>\n",
       "  <tbody>\n",
       "    <tr>\n",
       "      <th>0</th>\n",
       "      <td>keybord</td>\n",
       "      <td>it</td>\n",
       "      <td>3</td>\n",
       "    </tr>\n",
       "    <tr>\n",
       "      <th>1</th>\n",
       "      <td>baby</td>\n",
       "      <td>toy</td>\n",
       "      <td>33</td>\n",
       "    </tr>\n",
       "    <tr>\n",
       "      <th>2</th>\n",
       "      <td>mouse</td>\n",
       "      <td>it</td>\n",
       "      <td>333</td>\n",
       "    </tr>\n",
       "  </tbody>\n",
       "</table>\n",
       "</div>"
      ],
      "text/plain": [
       "      Name Catagory  Price\n",
       "0  keybord       it      3\n",
       "1     baby      toy     33\n",
       "2    mouse       it    333"
      ]
     },
     "execution_count": 78,
     "metadata": {},
     "output_type": "execute_result"
    }
   ],
   "source": [
    "pd.DataFrame(datas,columns=cols)"
   ]
  },
  {
   "cell_type": "code",
   "execution_count": 79,
   "metadata": {},
   "outputs": [],
   "source": [
    "product = [\n",
    "    {'Name':'คีย์บอร์ด','Category':'อุปกรณ์คอม','Price':'500'},\n",
    "    {'Name':'เมาส์','Category':'อุปกรณ์คอม','Price':'300'},\n",
    "    {'Name':'ตุ๊กตา','Category':'ของเล่น','Price':'900'}\n",
    "    ]"
   ]
  },
  {
   "cell_type": "code",
   "execution_count": 82,
   "metadata": {},
   "outputs": [],
   "source": [
    "ps = pd.DataFrame(product ,columns=cols)"
   ]
  },
  {
   "cell_type": "code",
   "execution_count": 83,
   "metadata": {},
   "outputs": [
    {
     "data": {
      "text/html": [
       "<div>\n",
       "<style scoped>\n",
       "    .dataframe tbody tr th:only-of-type {\n",
       "        vertical-align: middle;\n",
       "    }\n",
       "\n",
       "    .dataframe tbody tr th {\n",
       "        vertical-align: top;\n",
       "    }\n",
       "\n",
       "    .dataframe thead th {\n",
       "        text-align: right;\n",
       "    }\n",
       "</style>\n",
       "<table border=\"1\" class=\"dataframe\">\n",
       "  <thead>\n",
       "    <tr style=\"text-align: right;\">\n",
       "      <th></th>\n",
       "      <th>Name</th>\n",
       "      <th>Catagory</th>\n",
       "      <th>Price</th>\n",
       "    </tr>\n",
       "  </thead>\n",
       "  <tbody>\n",
       "    <tr>\n",
       "      <th>0</th>\n",
       "      <td>คีย์บอร์ด</td>\n",
       "      <td>NaN</td>\n",
       "      <td>500</td>\n",
       "    </tr>\n",
       "    <tr>\n",
       "      <th>1</th>\n",
       "      <td>เมาส์</td>\n",
       "      <td>NaN</td>\n",
       "      <td>300</td>\n",
       "    </tr>\n",
       "    <tr>\n",
       "      <th>2</th>\n",
       "      <td>ตุ๊กตา</td>\n",
       "      <td>NaN</td>\n",
       "      <td>900</td>\n",
       "    </tr>\n",
       "  </tbody>\n",
       "</table>\n",
       "</div>"
      ],
      "text/plain": [
       "        Name  Catagory Price\n",
       "0  คีย์บอร์ด       NaN   500\n",
       "1      เมาส์       NaN   300\n",
       "2     ตุ๊กตา       NaN   900"
      ]
     },
     "execution_count": 83,
     "metadata": {},
     "output_type": "execute_result"
    }
   ],
   "source": [
    "ps"
   ]
  },
  {
   "cell_type": "code",
   "execution_count": 86,
   "metadata": {},
   "outputs": [],
   "source": [
    "ps.set_index(['Name'],inplace=True)"
   ]
  },
  {
   "cell_type": "code",
   "execution_count": 89,
   "metadata": {},
   "outputs": [
    {
     "data": {
      "text/html": [
       "<div>\n",
       "<style scoped>\n",
       "    .dataframe tbody tr th:only-of-type {\n",
       "        vertical-align: middle;\n",
       "    }\n",
       "\n",
       "    .dataframe tbody tr th {\n",
       "        vertical-align: top;\n",
       "    }\n",
       "\n",
       "    .dataframe thead th {\n",
       "        text-align: right;\n",
       "    }\n",
       "</style>\n",
       "<table border=\"1\" class=\"dataframe\">\n",
       "  <thead>\n",
       "    <tr style=\"text-align: right;\">\n",
       "      <th></th>\n",
       "      <th>Catagory</th>\n",
       "      <th>Price</th>\n",
       "    </tr>\n",
       "    <tr>\n",
       "      <th>Name</th>\n",
       "      <th></th>\n",
       "      <th></th>\n",
       "    </tr>\n",
       "  </thead>\n",
       "  <tbody>\n",
       "    <tr>\n",
       "      <th>คีย์บอร์ด</th>\n",
       "      <td>NaN</td>\n",
       "      <td>500</td>\n",
       "    </tr>\n",
       "    <tr>\n",
       "      <th>เมาส์</th>\n",
       "      <td>NaN</td>\n",
       "      <td>300</td>\n",
       "    </tr>\n",
       "    <tr>\n",
       "      <th>ตุ๊กตา</th>\n",
       "      <td>NaN</td>\n",
       "      <td>900</td>\n",
       "    </tr>\n",
       "  </tbody>\n",
       "</table>\n",
       "</div>"
      ],
      "text/plain": [
       "           Catagory Price\n",
       "Name                     \n",
       "คีย์บอร์ด       NaN   500\n",
       "เมาส์           NaN   300\n",
       "ตุ๊กตา          NaN   900"
      ]
     },
     "execution_count": 89,
     "metadata": {},
     "output_type": "execute_result"
    }
   ],
   "source": [
    "ps"
   ]
  },
  {
   "cell_type": "code",
   "execution_count": 90,
   "metadata": {},
   "outputs": [],
   "source": [
    "name = ['คีย์บอร์ด','เมาส์','ตุ๊กตา']\n",
    "category = ['อุปกรณ์คอม','อุปกรณ์คอม','ของเล่น']\n",
    "price = [500,300,900]"
   ]
  },
  {
   "cell_type": "code",
   "execution_count": 92,
   "metadata": {},
   "outputs": [],
   "source": [
    "name_series = pd.Series(name)\n",
    "category_series = pd.Series(category)\n",
    "price_series = pd.Series(price)"
   ]
  },
  {
   "cell_type": "code",
   "execution_count": 94,
   "metadata": {},
   "outputs": [],
   "source": [
    "frame = {'ชื่อสินค้า':name_series,'หมวดสินค้า':category_series,'ราคา':price_series}"
   ]
  },
  {
   "cell_type": "code",
   "execution_count": 97,
   "metadata": {},
   "outputs": [],
   "source": [
    "ps = pd.DataFrame(frame)"
   ]
  },
  {
   "cell_type": "code",
   "execution_count": 100,
   "metadata": {},
   "outputs": [
    {
     "data": {
      "text/html": [
       "<div>\n",
       "<style scoped>\n",
       "    .dataframe tbody tr th:only-of-type {\n",
       "        vertical-align: middle;\n",
       "    }\n",
       "\n",
       "    .dataframe tbody tr th {\n",
       "        vertical-align: top;\n",
       "    }\n",
       "\n",
       "    .dataframe thead th {\n",
       "        text-align: right;\n",
       "    }\n",
       "</style>\n",
       "<table border=\"1\" class=\"dataframe\">\n",
       "  <thead>\n",
       "    <tr style=\"text-align: right;\">\n",
       "      <th></th>\n",
       "      <th>ชื่อสินค้า</th>\n",
       "      <th>หมวดสินค้า</th>\n",
       "      <th>ราคา</th>\n",
       "    </tr>\n",
       "  </thead>\n",
       "  <tbody>\n",
       "    <tr>\n",
       "      <th>0</th>\n",
       "      <td>คีย์บอร์ด</td>\n",
       "      <td>อุปกรณ์คอม</td>\n",
       "      <td>500</td>\n",
       "    </tr>\n",
       "    <tr>\n",
       "      <th>1</th>\n",
       "      <td>เมาส์</td>\n",
       "      <td>อุปกรณ์คอม</td>\n",
       "      <td>300</td>\n",
       "    </tr>\n",
       "    <tr>\n",
       "      <th>2</th>\n",
       "      <td>ตุ๊กตา</td>\n",
       "      <td>ของเล่น</td>\n",
       "      <td>900</td>\n",
       "    </tr>\n",
       "  </tbody>\n",
       "</table>\n",
       "</div>"
      ],
      "text/plain": [
       "  ชื่อสินค้า  หมวดสินค้า  ราคา\n",
       "0  คีย์บอร์ด  อุปกรณ์คอม   500\n",
       "1      เมาส์  อุปกรณ์คอม   300\n",
       "2     ตุ๊กตา     ของเล่น   900"
      ]
     },
     "execution_count": 100,
     "metadata": {},
     "output_type": "execute_result"
    }
   ],
   "source": [
    "ps"
   ]
  },
  {
   "cell_type": "code",
   "execution_count": 101,
   "metadata": {},
   "outputs": [],
   "source": [
    "ps.set_index(['ชื่อสินค้า'],inplace=True)"
   ]
  },
  {
   "cell_type": "code",
   "execution_count": 102,
   "metadata": {},
   "outputs": [
    {
     "data": {
      "text/html": [
       "<div>\n",
       "<style scoped>\n",
       "    .dataframe tbody tr th:only-of-type {\n",
       "        vertical-align: middle;\n",
       "    }\n",
       "\n",
       "    .dataframe tbody tr th {\n",
       "        vertical-align: top;\n",
       "    }\n",
       "\n",
       "    .dataframe thead th {\n",
       "        text-align: right;\n",
       "    }\n",
       "</style>\n",
       "<table border=\"1\" class=\"dataframe\">\n",
       "  <thead>\n",
       "    <tr style=\"text-align: right;\">\n",
       "      <th></th>\n",
       "      <th>หมวดสินค้า</th>\n",
       "      <th>ราคา</th>\n",
       "    </tr>\n",
       "    <tr>\n",
       "      <th>ชื่อสินค้า</th>\n",
       "      <th></th>\n",
       "      <th></th>\n",
       "    </tr>\n",
       "  </thead>\n",
       "  <tbody>\n",
       "    <tr>\n",
       "      <th>คีย์บอร์ด</th>\n",
       "      <td>อุปกรณ์คอม</td>\n",
       "      <td>500</td>\n",
       "    </tr>\n",
       "    <tr>\n",
       "      <th>เมาส์</th>\n",
       "      <td>อุปกรณ์คอม</td>\n",
       "      <td>300</td>\n",
       "    </tr>\n",
       "    <tr>\n",
       "      <th>ตุ๊กตา</th>\n",
       "      <td>ของเล่น</td>\n",
       "      <td>900</td>\n",
       "    </tr>\n",
       "  </tbody>\n",
       "</table>\n",
       "</div>"
      ],
      "text/plain": [
       "            หมวดสินค้า  ราคา\n",
       "ชื่อสินค้า                  \n",
       "คีย์บอร์ด   อุปกรณ์คอม   500\n",
       "เมาส์       อุปกรณ์คอม   300\n",
       "ตุ๊กตา         ของเล่น   900"
      ]
     },
     "execution_count": 102,
     "metadata": {},
     "output_type": "execute_result"
    }
   ],
   "source": [
    "ps"
   ]
  },
  {
   "cell_type": "code",
   "execution_count": null,
   "metadata": {},
   "outputs": [],
   "source": []
  }
 ],
 "metadata": {
  "interpreter": {
   "hash": "38740d3277777e2cd7c6c2cc9d8addf5118fdf3f82b1b39231fd12aeac8aee8b"
  },
  "kernelspec": {
   "display_name": "Python 3.9.6 64-bit",
   "name": "python3"
  },
  "language_info": {
   "codemirror_mode": {
    "name": "ipython",
    "version": 3
   },
   "file_extension": ".py",
   "mimetype": "text/x-python",
   "name": "python",
   "nbconvert_exporter": "python",
   "pygments_lexer": "ipython3",
   "version": "3.9.6"
  },
  "orig_nbformat": 4
 },
 "nbformat": 4,
 "nbformat_minor": 2
}
