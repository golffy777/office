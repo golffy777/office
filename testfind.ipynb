{
 "cells": [
  {
   "cell_type": "code",
   "execution_count": 9,
   "metadata": {},
   "outputs": [],
   "source": [
    "from selenium import webdriver\n",
    "from selenium.webdriver.support.ui import WebDriverWait\n",
    "from selenium.webdriver.support import expected_conditions as EC\n",
    "from selenium.webdriver.common.by import By\n",
    "from selenium.webdriver.common.keys import Keys\n",
    "import pyautogui\n",
    "import time\n",
    "import os\n",
    "import shutil\n",
    "from selenium.webdriver.chrome.options import Options"
   ]
  },
  {
   "cell_type": "code",
   "execution_count": 10,
   "metadata": {},
   "outputs": [],
   "source": [
    "driver = webdriver.Chrome(executable_path=r'C:\\Users\\sarav\\Desktop\\xyz88-master\\chromedriver.exe')"
   ]
  },
  {
   "cell_type": "code",
   "execution_count": 11,
   "metadata": {},
   "outputs": [],
   "source": [
    "driver.get('https://eclaim3.emcsthai.com/esurvey/frmLogin.aspx')\n",
    "driver.maximize_window()\n",
    "dcwh = driver.current_window_handle\n",
    "driver.find_element_by_id('txtUserName').send_keys('noppadol@se.co.th')\n",
    "driver.find_element_by_id('txtPassWord').send_keys('Somboonkul1501*')\n",
    "driver.find_element_by_id('imbLogin').click()\n",
    "driver.find_element_by_id('btnEnter').click()"
   ]
  },
  {
   "cell_type": "code",
   "execution_count": 12,
   "metadata": {},
   "outputs": [
    {
     "name": "stderr",
     "output_type": "stream",
     "text": [
      "C:\\Users\\sarav\\AppData\\Local\\Temp/ipykernel_1972/3003755061.py:4: DeprecationWarning: use driver.switch_to.window instead\n",
      "  driver.switch_to_window(dcwh)\n"
     ]
    }
   ],
   "source": [
    "allhandle_windows = driver.window_handles\n",
    "for handle in allhandle_windows:\n",
    "    if handle != dcwh:\n",
    "        driver.switch_to_window(dcwh)"
   ]
  },
  {
   "cell_type": "code",
   "execution_count": 13,
   "metadata": {},
   "outputs": [],
   "source": [
    "time.sleep(2)\n",
    "driver.find_element_by_id('dgvInbox_ctl03_sname').click()"
   ]
  }
 ],
 "metadata": {
  "interpreter": {
   "hash": "38740d3277777e2cd7c6c2cc9d8addf5118fdf3f82b1b39231fd12aeac8aee8b"
  },
  "kernelspec": {
   "display_name": "Python 3.9.6 64-bit",
   "name": "python3"
  },
  "language_info": {
   "codemirror_mode": {
    "name": "ipython",
    "version": 3
   },
   "file_extension": ".py",
   "mimetype": "text/x-python",
   "name": "python",
   "nbconvert_exporter": "python",
   "pygments_lexer": "ipython3",
   "version": "3.9.6"
  },
  "orig_nbformat": 4
 },
 "nbformat": 4,
 "nbformat_minor": 2
}
