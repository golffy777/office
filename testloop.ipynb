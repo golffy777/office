{
 "cells": [
  {
   "cell_type": "code",
   "execution_count": 55,
   "metadata": {},
   "outputs": [],
   "source": [
    "from selenium import webdriver\n",
    "from selenium.webdriver.support.ui import WebDriverWait\n",
    "from selenium.webdriver.support import expected_conditions as EC\n",
    "from selenium.webdriver.common.by import By\n",
    "from selenium.webdriver.common.keys import Keys\n",
    "import pyautogui\n",
    "import time\n",
    "import os\n",
    "import shutil\n",
    "from selenium.webdriver.chrome.options import Options\n",
    "import pandas as pd"
   ]
  },
  {
   "cell_type": "code",
   "execution_count": 56,
   "metadata": {},
   "outputs": [],
   "source": [
    "driver = webdriver.Chrome(executable_path=r'C:\\Users\\sarav\\Desktop\\xyz88-master\\chromedriver.exe')"
   ]
  },
  {
   "cell_type": "code",
   "execution_count": 57,
   "metadata": {},
   "outputs": [],
   "source": [
    "driver.get('https://eclaim3.emcsthai.com/esurvey/frmLogin.aspx')\n",
    "driver.maximize_window()\n",
    "dcwh = driver.current_window_handle\n",
    "driver.find_element_by_id('txtUserName').send_keys('noppadol@se.co.th')\n",
    "driver.find_element_by_id('txtPassWord').send_keys('Sesurvey1501*')\n",
    "driver.find_element_by_id('imbLogin').click()\n",
    "driver.find_element_by_id('btnEnter').click()"
   ]
  },
  {
   "cell_type": "code",
   "execution_count": 58,
   "metadata": {},
   "outputs": [
    {
     "name": "stderr",
     "output_type": "stream",
     "text": [
      "C:\\Users\\sarav\\AppData\\Local\\Temp/ipykernel_2516/3003755061.py:4: DeprecationWarning: use driver.switch_to.window instead\n",
      "  driver.switch_to_window(dcwh)\n"
     ]
    }
   ],
   "source": [
    "allhandle_windows = driver.window_handles\n",
    "for handle in allhandle_windows:\n",
    "    if handle != dcwh:\n",
    "        driver.switch_to_window(dcwh)"
   ]
  },
  {
   "cell_type": "code",
   "execution_count": 59,
   "metadata": {},
   "outputs": [],
   "source": [
    "time.sleep(2)\n",
    "driver.find_element_by_id('dgvInbox_ctl03_sname').click()"
   ]
  },
  {
   "cell_type": "code",
   "execution_count": 65,
   "metadata": {},
   "outputs": [],
   "source": [
    "data = driver.find_elements_by_xpath('//*[@id=\"dgvList\"]/tbody/tr')"
   ]
  },
  {
   "cell_type": "code",
   "execution_count": 66,
   "metadata": {},
   "outputs": [],
   "source": [
    "all_data = []\n",
    "for count , value in enumerate(data):\n",
    "    if count > 0 and count < 16:\n",
    "        all_data.append(value.text)\n",
    "        data_frame = pd.DataFrame(all_data)\n",
    "        data_frame.columns = ['Table']\n",
    "\n",
    "        df_splite = data_frame.Table.str.extract('(\\d\\d)(\\D{6})(\\d{4})(\\s)(\\d\\d\\W\\d\\d)(\\s)(\\D\\d{11})')\n",
    "        df_splite.columns = ['Day', 'Month', 'Year','blank1', 'Time', 'blank2', 'Claim']\n",
    "        df_s = df_splite.drop(columns=['blank1', 'blank2'])\n",
    "\n",
    "        d = df_s['Day'].values\n",
    "        m = df_s['Month'].values\n",
    "        t = df_s['Time'].values\n",
    "        y = df_s['Year'].values\n",
    "        c = df_s['Claim'].values\n",
    "\n",
    "        d_list = list(df_s['Day'].values)\n",
    "        m_list = list(df_s['Month'].values)\n",
    "        t_list = list(df_s['Time'].values)\n",
    "        y_list = list(df_s['Year'].values)\n",
    "        c_list = list(df_s['Claim'].values)"
   ]
  },
  {
   "cell_type": "code",
   "execution_count": 67,
   "metadata": {},
   "outputs": [],
   "source": [
    "day = '18'\n",
    "month = '/ก.ย./'\n",
    "year = '2564'"
   ]
  },
  {
   "cell_type": "code",
   "execution_count": 68,
   "metadata": {},
   "outputs": [
    {
     "data": {
      "text/html": [
       "<div>\n",
       "<style scoped>\n",
       "    .dataframe tbody tr th:only-of-type {\n",
       "        vertical-align: middle;\n",
       "    }\n",
       "\n",
       "    .dataframe tbody tr th {\n",
       "        vertical-align: top;\n",
       "    }\n",
       "\n",
       "    .dataframe thead th {\n",
       "        text-align: right;\n",
       "    }\n",
       "</style>\n",
       "<table border=\"1\" class=\"dataframe\">\n",
       "  <thead>\n",
       "    <tr style=\"text-align: right;\">\n",
       "      <th></th>\n",
       "      <th>Day</th>\n",
       "      <th>Month</th>\n",
       "      <th>Year</th>\n",
       "      <th>Time</th>\n",
       "      <th>Claim</th>\n",
       "    </tr>\n",
       "  </thead>\n",
       "  <tbody>\n",
       "    <tr>\n",
       "      <th>0</th>\n",
       "      <td>18</td>\n",
       "      <td>/ต.ค./</td>\n",
       "      <td>2564</td>\n",
       "      <td>08:35</td>\n",
       "      <td>S68421011183</td>\n",
       "    </tr>\n",
       "    <tr>\n",
       "      <th>1</th>\n",
       "      <td>18</td>\n",
       "      <td>/ต.ค./</td>\n",
       "      <td>2564</td>\n",
       "      <td>08:25</td>\n",
       "      <td>S68421100303</td>\n",
       "    </tr>\n",
       "    <tr>\n",
       "      <th>2</th>\n",
       "      <td>18</td>\n",
       "      <td>/ต.ค./</td>\n",
       "      <td>2564</td>\n",
       "      <td>08:15</td>\n",
       "      <td>S68421100189</td>\n",
       "    </tr>\n",
       "    <tr>\n",
       "      <th>3</th>\n",
       "      <td>18</td>\n",
       "      <td>/ต.ค./</td>\n",
       "      <td>2564</td>\n",
       "      <td>08:04</td>\n",
       "      <td>S68421100449</td>\n",
       "    </tr>\n",
       "    <tr>\n",
       "      <th>4</th>\n",
       "      <td>18</td>\n",
       "      <td>/ต.ค./</td>\n",
       "      <td>2564</td>\n",
       "      <td>05:31</td>\n",
       "      <td>S68421101797</td>\n",
       "    </tr>\n",
       "    <tr>\n",
       "      <th>5</th>\n",
       "      <td>18</td>\n",
       "      <td>/ต.ค./</td>\n",
       "      <td>2564</td>\n",
       "      <td>05:28</td>\n",
       "      <td>S68421101799</td>\n",
       "    </tr>\n",
       "    <tr>\n",
       "      <th>6</th>\n",
       "      <td>18</td>\n",
       "      <td>/ต.ค./</td>\n",
       "      <td>2564</td>\n",
       "      <td>05:22</td>\n",
       "      <td>S68421101798</td>\n",
       "    </tr>\n",
       "    <tr>\n",
       "      <th>7</th>\n",
       "      <td>17</td>\n",
       "      <td>/ต.ค./</td>\n",
       "      <td>2564</td>\n",
       "      <td>23:31</td>\n",
       "      <td>S68421101771</td>\n",
       "    </tr>\n",
       "    <tr>\n",
       "      <th>8</th>\n",
       "      <td>17</td>\n",
       "      <td>/ต.ค./</td>\n",
       "      <td>2564</td>\n",
       "      <td>23:19</td>\n",
       "      <td>S68421101769</td>\n",
       "    </tr>\n",
       "    <tr>\n",
       "      <th>9</th>\n",
       "      <td>17</td>\n",
       "      <td>/ต.ค./</td>\n",
       "      <td>2564</td>\n",
       "      <td>23:04</td>\n",
       "      <td>S68421101768</td>\n",
       "    </tr>\n",
       "    <tr>\n",
       "      <th>10</th>\n",
       "      <td>17</td>\n",
       "      <td>/ต.ค./</td>\n",
       "      <td>2564</td>\n",
       "      <td>22:35</td>\n",
       "      <td>S68421101765</td>\n",
       "    </tr>\n",
       "    <tr>\n",
       "      <th>11</th>\n",
       "      <td>17</td>\n",
       "      <td>/ต.ค./</td>\n",
       "      <td>2564</td>\n",
       "      <td>20:52</td>\n",
       "      <td>S68421101752</td>\n",
       "    </tr>\n",
       "    <tr>\n",
       "      <th>12</th>\n",
       "      <td>17</td>\n",
       "      <td>/ต.ค./</td>\n",
       "      <td>2564</td>\n",
       "      <td>20:48</td>\n",
       "      <td>S68421101748</td>\n",
       "    </tr>\n",
       "    <tr>\n",
       "      <th>13</th>\n",
       "      <td>17</td>\n",
       "      <td>/ต.ค./</td>\n",
       "      <td>2564</td>\n",
       "      <td>20:44</td>\n",
       "      <td>S68421101746</td>\n",
       "    </tr>\n",
       "    <tr>\n",
       "      <th>14</th>\n",
       "      <td>17</td>\n",
       "      <td>/ต.ค./</td>\n",
       "      <td>2564</td>\n",
       "      <td>20:41</td>\n",
       "      <td>S68421101740</td>\n",
       "    </tr>\n",
       "  </tbody>\n",
       "</table>\n",
       "</div>"
      ],
      "text/plain": [
       "   Day   Month  Year   Time         Claim\n",
       "0   18  /ต.ค./  2564  08:35  S68421011183\n",
       "1   18  /ต.ค./  2564  08:25  S68421100303\n",
       "2   18  /ต.ค./  2564  08:15  S68421100189\n",
       "3   18  /ต.ค./  2564  08:04  S68421100449\n",
       "4   18  /ต.ค./  2564  05:31  S68421101797\n",
       "5   18  /ต.ค./  2564  05:28  S68421101799\n",
       "6   18  /ต.ค./  2564  05:22  S68421101798\n",
       "7   17  /ต.ค./  2564  23:31  S68421101771\n",
       "8   17  /ต.ค./  2564  23:19  S68421101769\n",
       "9   17  /ต.ค./  2564  23:04  S68421101768\n",
       "10  17  /ต.ค./  2564  22:35  S68421101765\n",
       "11  17  /ต.ค./  2564  20:52  S68421101752\n",
       "12  17  /ต.ค./  2564  20:48  S68421101748\n",
       "13  17  /ต.ค./  2564  20:44  S68421101746\n",
       "14  17  /ต.ค./  2564  20:41  S68421101740"
      ]
     },
     "execution_count": 68,
     "metadata": {},
     "output_type": "execute_result"
    }
   ],
   "source": [
    "df_s"
   ]
  },
  {
   "cell_type": "code",
   "execution_count": 69,
   "metadata": {},
   "outputs": [
    {
     "name": "stdout",
     "output_type": "stream",
     "text": [
      "0 18\n",
      "1 18\n",
      "2 18\n",
      "3 18\n",
      "4 18\n",
      "5 18\n",
      "6 18\n"
     ]
    }
   ],
   "source": [
    "for count , value in enumerate(d_list):\n",
    "    if value == '18':\n",
    "        print(count,value)"
   ]
  },
  {
   "cell_type": "code",
   "execution_count": 1,
   "metadata": {},
   "outputs": [
    {
     "name": "stdout",
     "output_type": "stream",
     "text": [
      "Testgit\n"
     ]
    }
   ],
   "source": [
    "print('Testgit')"
   ]
  },
  {
   "cell_type": "code",
   "execution_count": null,
   "metadata": {},
   "outputs": [],
   "source": []
  }
 ],
 "metadata": {
  "interpreter": {
   "hash": "38740d3277777e2cd7c6c2cc9d8addf5118fdf3f82b1b39231fd12aeac8aee8b"
  },
  "kernelspec": {
   "display_name": "Python 3.9.6 64-bit",
   "name": "python3"
  },
  "language_info": {
   "codemirror_mode": {
    "name": "ipython",
    "version": 3
   },
   "file_extension": ".py",
   "mimetype": "text/x-python",
   "name": "python",
   "nbconvert_exporter": "python",
   "pygments_lexer": "ipython3",
   "version": "3.9.6"
  },
  "orig_nbformat": 4
 },
 "nbformat": 4,
 "nbformat_minor": 2
}
